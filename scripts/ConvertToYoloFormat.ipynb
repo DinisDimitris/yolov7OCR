{
 "cells": [
  {
   "cell_type": "code",
   "outputs": [],
   "source": [
    "import json\n"
   ],
   "metadata": {
    "collapsed": false,
    "ExecuteTime": {
     "end_time": "2024-01-24T21:27:28.837640719Z",
     "start_time": "2024-01-24T21:27:28.828272254Z"
    }
   },
   "id": "1e69f8d1a4849dea",
   "execution_count": 3
  },
  {
   "cell_type": "code",
   "outputs": [],
   "source": [
    "def convert_to_yolo(json_data, class_mapping):\n",
    "    yolo_annotations = {}\n",
    "\n",
    "    for image_key, image_data in json_data.items():\n",
    "        filename = image_data[\"filename\"]\n",
    "        width = image_data[\"file_attributes\"].get(\"width\", 1)  # Default width to 1 if not specified\n",
    "        height = image_data[\"file_attributes\"].get(\"height\", 1)  # Default height to 1 if not specified\n",
    "\n",
    "        annotations = []\n",
    "        for region in image_data[\"regions\"]:\n",
    "            shape_attributes = region[\"shape_attributes\"]\n",
    "            region_attributes = region[\"region_attributes\"]\n",
    "\n",
    "            x = shape_attributes[\"x\"]\n",
    "            y = shape_attributes[\"y\"]\n",
    "            w = shape_attributes[\"width\"]\n",
    "            h = shape_attributes[\"height\"]\n",
    "\n",
    "            class_name = region_attributes[\"dvla\"]\n",
    "            class_index = class_mapping.get(class_name)\n",
    "\n",
    "            if class_index is not None:\n",
    "                x_normalized = x / width\n",
    "                y_normalized = y / height\n",
    "                w_normalized = w / width\n",
    "                h_normalized = h / height\n",
    "\n",
    "                annotations.append(f\"{class_index} {x_normalized} {y_normalized} {w_normalized} {h_normalized}\")\n",
    "\n",
    "        yolo_annotations[filename] = annotations\n",
    "\n",
    "    return yolo_annotations"
   ],
   "metadata": {
    "collapsed": false,
    "ExecuteTime": {
     "end_time": "2024-01-24T21:35:46.123523662Z",
     "start_time": "2024-01-24T21:35:46.112159355Z"
    }
   },
   "id": "6de0cc8c7b7bb72a",
   "execution_count": 12
  },
  {
   "cell_type": "code",
   "outputs": [],
   "source": [
    "json_path = \"dataset/eval/annotations.json\"\n",
    "class_mapping = {\"firstname\": 0, \"surname\": 1, \"dob\": 2, \"issue date\": 3, \"expiry date\": 4,\n",
    "                 \"authority\": 5, \"driver no\": 6, \"signature\": 7, \"address\": 8, \"entitlements\": 9}\n",
    "\n",
    "with open(json_path, \"r\") as json_file:\n",
    "    json_data = json.load(json_file)\n",
    "\n",
    "yolo_annotations = convert_to_yolo(json_data, class_mapping)\n",
    "\n",
    "# Save YOLO annotations to a single text file for each image\n",
    "for filename, annotations in yolo_annotations.items():\n",
    "    with open(f\"{filename}.txt\", \"w\") as yolo_file:\n",
    "        for annotation in annotations:\n",
    "            yolo_file.write(annotation + '\\n')"
   ],
   "metadata": {
    "collapsed": false,
    "ExecuteTime": {
     "end_time": "2024-01-24T21:38:28.919264787Z",
     "start_time": "2024-01-24T21:38:28.865321995Z"
    }
   },
   "id": "edb9f8e39ab24642",
   "execution_count": 15
  },
  {
   "cell_type": "code",
   "outputs": [],
   "source": [],
   "metadata": {
    "collapsed": false
   },
   "id": "37ef31aeff6d935"
  }
 ],
 "metadata": {
  "kernelspec": {
   "display_name": "Python 3",
   "language": "python",
   "name": "python3"
  },
  "language_info": {
   "codemirror_mode": {
    "name": "ipython",
    "version": 2
   },
   "file_extension": ".py",
   "mimetype": "text/x-python",
   "name": "python",
   "nbconvert_exporter": "python",
   "pygments_lexer": "ipython2",
   "version": "2.7.6"
  }
 },
 "nbformat": 4,
 "nbformat_minor": 5
}
